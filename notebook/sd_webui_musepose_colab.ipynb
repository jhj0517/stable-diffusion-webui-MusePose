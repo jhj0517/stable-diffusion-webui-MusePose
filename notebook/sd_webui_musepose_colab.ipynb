{
  "nbformat": 4,
  "nbformat_minor": 0,
  "metadata": {
    "colab": {
      "provenance": [],
      "machine_shape": "hm",
      "gpuType": "L4"
    },
    "kernelspec": {
      "name": "python3",
      "display_name": "Python 3"
    },
    "language_info": {
      "name": "python"
    },
    "accelerator": "GPU"
  },
  "cells": [
    {
      "cell_type": "markdown",
      "source": [
        "---\n",
        "\n",
        "📌 **This notebook has been updated [here](https://github.com/jhj0517/stable-diffusion-webui-MusePose)!**\n",
        "\n",
        "🖋 **Author**: [jhj0517](https://github.com/jhj0517/stable-diffusion-webui-MusePose/blob/master/notebook/sd_webui_musepose_colab.ipynb)\n",
        "\n",
        "😎 **Support the Project**:\n",
        "\n",
        "If you find this project useful, please consider supporting it:\n",
        "\n",
        "<a href=\"https://ko-fi.com/A0A7JSQRJ\" target=\"_blank\">\n",
        "    <img src=\"https://storage.ko-fi.com/cdn/kofi2.png?v=3\" alt=\"Buy Me a Coffee at ko-fi.com\" height=\"36\">\n",
        "</a>\n",
        "\n",
        "---"
      ],
      "metadata": {
        "id": "0DUfsV89JzPe"
      }
    },
    {
      "cell_type": "code",
      "source": [
        "#@title # Install Dependencies\n",
        "#@markdown This cell install dependencies including sd web ui and musepose\n",
        "\n",
        "!git clone https://github.com/AUTOMATIC1111/stable-diffusion-webui\n",
        "%cd stable-diffusion-webui\n",
        "!pip install -r requirements_versions.txt\n",
        "!pip install torch==2.1.2 torchvision==0.16.2 --index-url https://download.pytorch.org/whl/cu121\n",
        "\n",
        "# Install Extensions\n",
        "import shutil\n",
        "import os\n",
        "extension_path = '/content/stable-diffusion-webui/extensions'\n",
        "if os.path.exists(extension_path):\n",
        "  shutil.rmtree(extension_path)\n",
        "\n",
        "musepose_extension_path = os.path.join(extension_path, 'stable_diffusion_webui_MusePose')\n",
        "musepose_url = 'https://github.com/jhj0517/stable-diffusion-webui-MusePose.git'\n",
        "!git clone \"$musepose_url\" \"$musepose_extension_path\""
      ],
      "metadata": {
        "id": "taco4AWfFEfw",
        "cellView": "form"
      },
      "execution_count": null,
      "outputs": []
    },
    {
      "cell_type": "code",
      "source": [
        "#@title #Mount Your Google Drive for Paths\n",
        "#@markdown Enter your models & output directory paths. Remove these default values below and enter yours.\n",
        "\n",
        "MusePose_Model_Path = '/content/drive/MyDrive/MusePose/pretrained_weights' # @param {type:\"string\"}\n",
        "Output_Dir = '/content/drive/MyDrive/MusePose/output_folder'  # @param {type:\"string\"}\n",
        "\n",
        "#@markdown You should prepare folder like `Your_MusePose_Models` folder with the following structure on your Google Drive:\n",
        "#@markdown ```\n",
        "#@markdown ./Your_MusePose_Models/\n",
        "#@markdown |-- MusePose\n",
        "#@markdown |   |-- denoising_unet.pth\n",
        "#@markdown |   |-- motion_module.pth\n",
        "#@markdown |   |-- pose_guider.pth\n",
        "#@markdown |   └-- reference_unet.pth\n",
        "#@markdown |-- dwpose\n",
        "#@markdown |   |-- dw-ll_ucoco_384.pth\n",
        "#@markdown |   └── yolox_l_8x8_300e_coco.pth\n",
        "#@markdown |-- sd-image-variations-diffusers\n",
        "#@markdown |   └── unet\n",
        "#@markdown |       |-- config.json\n",
        "#@markdown |       └-- diffusion_pytorch_model.bin\n",
        "#@markdown |-- image_encoder\n",
        "#@markdown |   |-- config.json\n",
        "#@markdown |   └-- pytorch_model.bin\n",
        "#@markdown └-- sd-vae-ft-mse\n",
        "#@markdown     |-- config.json\n",
        "#@markdown     └-- diffusion_pytorch_model.bin\n",
        "#@markdown ```\n",
        "\n",
        "#@markdown You can download weigths here: [ReadMe](https://github.com/TMElyralab/MusePose?tab=readme-ov-file#download-weights)\n",
        "\n",
        "\n",
        "# Mount Google Drive\n",
        "from google.colab import drive\n",
        "import os\n",
        "drive.mount('/content/drive')\n",
        "\n",
        "# Symlink model path with google drive and local\n",
        "local_model_path = '/content/stable-diffusion-webui/models'\n",
        "os.makedirs(local_model_path, exist_ok=True)\n",
        "\n",
        "for item in os.listdir(MusePose_Model_Path):\n",
        "    item_path = os.path.join(MusePose_Model_Path, item)\n",
        "    symlink_path = os.path.join(local_model_path, item)\n",
        "    os.symlink(item_path, symlink_path)\n",
        "!ls \"$local_model_path\"\n",
        "\n",
        "# Symlink output path with google drive and local\n",
        "local_output_path = '/content/stable-diffusion-webui/outputs/MusePose'\n",
        "os.makedirs(local_output_path, exist_ok=True)\n",
        "\n",
        "if os.path.exists(local_output_path):\n",
        "    !rm -r \"$local_output_path\"\n",
        "\n",
        "os.symlink(Output_Dir, local_output_path)\n",
        "!ls \"$local_output_path\""
      ],
      "metadata": {
        "id": "4suEivIcHB2S",
        "cellView": "form"
      },
      "execution_count": null,
      "outputs": []
    },
    {
      "cell_type": "code",
      "source": [
        "#@title # Run Web UI\n",
        "#@markdown Run the SD WebUI wit the extension, Use public URL that is displayed\n",
        "\n",
        "!python launch.py --no-download-sd-model --skip-load-model-at-start --enable-insecure-extension-access --share"
      ],
      "metadata": {
        "id": "476qEEAHGbD5",
        "cellView": "form"
      },
      "execution_count": null,
      "outputs": []
    }
  ]
}